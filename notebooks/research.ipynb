{
 "cells": [
  {
   "cell_type": "code",
   "execution_count": 41,
   "metadata": {},
   "outputs": [],
   "source": [
    "import logging\n"
   ]
  },
  {
   "cell_type": "code",
   "execution_count": 42,
   "metadata": {},
   "outputs": [],
   "source": [
    "import os\n",
    "from datetime import datetime\n"
   ]
  },
  {
   "cell_type": "code",
   "execution_count": 43,
   "metadata": {},
   "outputs": [
    {
     "data": {
      "text/plain": [
       "datetime.datetime(2023, 11, 29, 5, 28, 34, 662333)"
      ]
     },
     "execution_count": 43,
     "metadata": {},
     "output_type": "execute_result"
    }
   ],
   "source": [
    "datetime.now()\n"
   ]
  },
  {
   "cell_type": "code",
   "execution_count": null,
   "metadata": {},
   "outputs": [],
   "source": []
  },
  {
   "cell_type": "code",
   "execution_count": 44,
   "metadata": {},
   "outputs": [
    {
     "name": "stdout",
     "output_type": "stream",
     "text": [
      "['c:\\\\fsdsendtoend\\\\notebooks', 'c:\\\\fsdsendtoend\\\\env\\\\python38.zip', 'c:\\\\fsdsendtoend\\\\env\\\\DLLs', 'c:\\\\fsdsendtoend\\\\env\\\\lib', 'c:\\\\fsdsendtoend\\\\env', '', 'c:\\\\fsdsendtoend\\\\env\\\\lib\\\\site-packages', 'c:\\\\fsdsendtoend', 'c:\\\\fsdsendtoend\\\\env\\\\lib\\\\site-packages\\\\win32', 'c:\\\\fsdsendtoend\\\\env\\\\lib\\\\site-packages\\\\win32\\\\lib', 'c:\\\\fsdsendtoend\\\\env\\\\lib\\\\site-packages\\\\Pythonwin']\n"
     ]
    }
   ],
   "source": [
    "import sys\n",
    "print(sys.path)\n"
   ]
  },
  {
   "cell_type": "code",
   "execution_count": 45,
   "metadata": {},
   "outputs": [
    {
     "data": {
      "text/plain": [
       "'11_29_2023_05_28_36.log'"
      ]
     },
     "execution_count": 45,
     "metadata": {},
     "output_type": "execute_result"
    }
   ],
   "source": [
    "f\"{datetime.now().strftime('%m_%d_%Y_%H_%M_%S')}.log\"\n"
   ]
  },
  {
   "cell_type": "code",
   "execution_count": 46,
   "metadata": {},
   "outputs": [
    {
     "data": {
      "text/plain": [
       "'c:\\\\fsdsendtoend\\\\notebooks\\\\logs'"
      ]
     },
     "execution_count": 46,
     "metadata": {},
     "output_type": "execute_result"
    }
   ],
   "source": [
    "os.path.join(os.getcwd(),\"logs\")\n"
   ]
  },
  {
   "cell_type": "code",
   "execution_count": 48,
   "metadata": {},
   "outputs": [
    {
     "ename": "ImportError",
     "evalue": "cannot import name 'logging' from 'src.DimondPricePrediction.logger' (c:\\fsdsendtoend\\src\\DimondPricePrediction\\logger.py)",
     "output_type": "error",
     "traceback": [
      "\u001b[1;31m---------------------------------------------------------------------------\u001b[0m",
      "\u001b[1;31mImportError\u001b[0m                               Traceback (most recent call last)",
      "\u001b[1;32mc:\\fsdsendtoend\\notebooks\\research.ipynb Cell 8\u001b[0m line \u001b[0;36m1\n\u001b[1;32m----> <a href='vscode-notebook-cell:/c%3A/fsdsendtoend/notebooks/research.ipynb#X63sZmlsZQ%3D%3D?line=0'>1</a>\u001b[0m \u001b[39mfrom\u001b[39;00m \u001b[39msrc\u001b[39;00m\u001b[39m.\u001b[39;00m\u001b[39mDimondPricePrediction\u001b[39;00m\u001b[39m.\u001b[39;00m\u001b[39mlogger\u001b[39;00m \u001b[39mimport\u001b[39;00m logging\n",
      "\u001b[1;31mImportError\u001b[0m: cannot import name 'logging' from 'src.DimondPricePrediction.logger' (c:\\fsdsendtoend\\src\\DimondPricePrediction\\logger.py)"
     ]
    }
   ],
   "source": [
    "from src.DimondPricePrediction.logger import logging"
   ]
  },
  {
   "cell_type": "code",
   "execution_count": null,
   "metadata": {},
   "outputs": [],
   "source": [
    "import sys\n",
    "\n",
    "\n",
    "class customexception(Exception):\n",
    "    def __init__(self,error_message,error_details:sys):\n",
    "        self.error_message = error_message\n",
    "        _,_,exc_tb = error_details.exc_info()\n",
    "        \n",
    "        self.lineno=exc_tb.tb_lineno\n",
    "        self.file_name=exc_tb.tb_frame.f_code.co_filename \n",
    "    \n",
    "    def __str__(self):\n",
    "        return \"Error occured in python script name [{0}] line number [{1}] error message [{2}]\".format(\n",
    "        self.file_name, self.lineno, str(self.error_message))"
   ]
  },
  {
   "cell_type": "code",
   "execution_count": 49,
   "metadata": {},
   "outputs": [],
   "source": [
    "import sys\n"
   ]
  },
  {
   "cell_type": "code",
   "execution_count": 50,
   "metadata": {},
   "outputs": [
    {
     "name": "stdout",
     "output_type": "stream",
     "text": [
      "2\n",
      "C:\\Users\\kashi\\AppData\\Local\\Temp\\ipykernel_20520\\2581775638.py\n",
      "division by zero\n"
     ]
    }
   ],
   "source": [
    "try:\n",
    "    a=1/0\n",
    "except Exception as e:\n",
    "    _,_,exc_tb=sys.exc_info()\n",
    "    print(exc_tb.tb_lineno)\n",
    "    print(exc_tb.tb_frame.f_code.co_filename)\n",
    "     \n",
    "    print(e)"
   ]
  },
  {
   "cell_type": "code",
   "execution_count": null,
   "metadata": {},
   "outputs": [],
   "source": []
  }
 ],
 "metadata": {
  "kernelspec": {
   "display_name": "Python 3",
   "language": "python",
   "name": "python3"
  },
  "language_info": {
   "name": "python",
   "version": "3.8.18"
  }
 },
 "nbformat": 4,
 "nbformat_minor": 2
}
